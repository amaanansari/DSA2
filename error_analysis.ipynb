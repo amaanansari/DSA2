{
 "cells": [
  {
   "metadata": {},
   "cell_type": "code",
   "outputs": [],
   "execution_count": null,
   "source": [
    "import pandas as pd\n",
    "from pyexpat.errors import messages\n",
    "from tqdm import tqdm\n",
    "\n",
    "from src.util import LanguageModel\n",
    "\n",
    "tqdm.pandas()"
   ],
   "id": "bbc8b325efd6d746"
  },
  {
   "metadata": {},
   "cell_type": "code",
   "outputs": [],
   "execution_count": null,
   "source": [
    "df = pd.read_csv('data/combined_articles_with_sentiment.csv', index_col=0)\n",
    "#df.rename(columns={df.columns[0]: 'index'}, inplace=True)\n",
    "def clean(df_uncleaned):\n",
    "    df_uncleaned = df_uncleaned[df_uncleaned['source_id'] != '1']\n",
    "    return df_uncleaned\n",
    "df = clean(df)"
   ],
   "id": "793bf93160d03226"
  },
  {
   "metadata": {},
   "cell_type": "code",
   "outputs": [],
   "execution_count": null,
   "source": "df.shape",
   "id": "b422c31ee035e992"
  },
  {
   "metadata": {},
   "cell_type": "code",
   "outputs": [],
   "execution_count": null,
   "source": "df.head()",
   "id": "eb3c1dad659cc542"
  },
  {
   "metadata": {},
   "cell_type": "code",
   "outputs": [],
   "execution_count": null,
   "source": [
    "# Amount of articles we the crawling failed\n",
    "len(df[df['full_article'] == '<ERROR: ArticleException>']) / len(df)"
   ],
   "id": "e7d070331fbf70dd"
  },
  {
   "metadata": {},
   "cell_type": "code",
   "outputs": [],
   "execution_count": null,
   "source": "df_errors = df[df['full_article'] == '<ERROR: ArticleException>']",
   "id": "b5f285f5f0a927ec"
  },
  {
   "metadata": {},
   "cell_type": "code",
   "outputs": [],
   "execution_count": null,
   "source": [
    "# Step 1: Total entries per source_name in the original df\n",
    "total_counts = df['source_name'].value_counts()\n",
    "\n",
    "# Step 2: Error counts per source_name in df_errors\n",
    "error_counts = df_errors['source_name'].value_counts()\n",
    "\n",
    "# Step 3: Proportion of errors for each source_name\n",
    "error_proportions = (error_counts / total_counts).fillna(0)  # Fill NaN with 0 for sources without errors\n",
    "\n",
    "# Convert to a DataFrame for better visualization\n",
    "error_proportions_df = error_proportions.reset_index()\n",
    "error_proportions_df.columns = ['source_name', 'error_proportion']\n",
    "\n",
    "print(error_proportions_df)\n"
   ],
   "id": "cc6897806faf4f44"
  },
  {
   "metadata": {
    "ExecuteTime": {
     "end_time": "2024-12-04T05:12:44.678774Z",
     "start_time": "2024-12-04T05:12:44.049337Z"
    }
   },
   "cell_type": "code",
   "source": [
    "import pathlib\n",
    "import pandas as pd\n",
    "from pyexpat.errors import messages\n",
    "from tqdm import tqdm\n",
    "\n",
    "\n",
    "\n",
    "df = pd.read_csv(pathlib.Path(\"data\") / \"subset4_articles_with_sentiment_and_classification.csv\", index_col=0)"
   ],
   "id": "e100f7150ec27691",
   "outputs": [],
   "execution_count": 2
  },
  {
   "metadata": {
    "ExecuteTime": {
     "end_time": "2024-12-04T05:12:44.708167Z",
     "start_time": "2024-12-04T05:12:44.684942Z"
    }
   },
   "cell_type": "code",
   "source": "df.head()",
   "id": "85b07b896d52540",
   "outputs": [
    {
     "data": {
      "text/plain": [
       "      id        source_id      source_name  \\\n",
       "0    287  the-irish-times  The Irish Times   \n",
       "1   8561         cbs-news         CBS News   \n",
       "2   1497              cnn              CNN   \n",
       "3  10376              cnn              CNN   \n",
       "4    206             espn             ESPN   \n",
       "\n",
       "                               author  \\\n",
       "0                       Andrew Pulver   \n",
       "1                        Grace Segers   \n",
       "2                  Leah Asmelash, CNN   \n",
       "3                 David Williams, CNN   \n",
       "4  Adam RittenbergESPN Senior Writer    \n",
       "\n",
       "                                               title  \\\n",
       "0  Kristen Stewart: I was told to tone down my se...   \n",
       "1  2020 Democrats reveal third quarter fundraisin...   \n",
       "2  A Minnesota woman was killed in a rare black b...   \n",
       "3  A cheerleader jumped off a homecoming float to...   \n",
       "4   Taggart: Dehydration possible factor in FSU loss   \n",
       "\n",
       "                                         description  \\\n",
       "0  The Twilight actor says she was advised to sto...   \n",
       "1  The contenders in the 2020 presidential race h...   \n",
       "2  A Minnesota woman was attacked and killed by a...   \n",
       "3  Cheerleader Tyra Winters is Rockwall High Scho...   \n",
       "4  Florida State will monitor the Seminoles' hydr...   \n",
       "\n",
       "                                                 url  \\\n",
       "0  https://www.irishtimes.com/culture/film/kriste...   \n",
       "1  https://www.cbsnews.com/live-news/2020-democra...   \n",
       "2  https://www.cnn.com/2019/09/05/us/minnesota-wo...   \n",
       "3  https://www.cnn.com/2019/10/03/us/cheerleader-...   \n",
       "4  http://espn.go.com/college-football/story/_/id...   \n",
       "\n",
       "                                        url_to_image          published_at  \\\n",
       "0  https://www.irishtimes.com/image-creator/?id=1...  2019-09-03T12:58:03Z   \n",
       "1  https://cbsnews3.cbsistatic.com/hub/i/r/2019/0...  2019-10-01T14:29:16Z   \n",
       "2  https://cdn.cnn.com/cnnnext/dam/assets/1909051...  2019-09-05T16:46:13Z   \n",
       "3  https://cdn.cnn.com/cnnnext/dam/assets/1910031...  2019-10-03T14:51:32Z   \n",
       "4  https://a2.espncdn.com/combiner/i?img=%2Fphoto...  2019-09-03T15:16:00Z   \n",
       "\n",
       "                                             content  ...  \\\n",
       "0  Kristen Stewart was told to stop holding her g...  ...   \n",
       "1  By Grace Segers, Sarah Ewall-Wice\\r\\nOctober 1...  ...   \n",
       "2                                                NaN  ...   \n",
       "3                                                NaN  ...   \n",
       "4  After watching Florida State wear down in Satu...  ...   \n",
       "\n",
       "                                        full_article  textblob_polarity  \\\n",
       "0  Kristen Stewart was told to stop holding her g...           0.250598   \n",
       "1  Booker says impeachment trial could be \"big bl...           0.000000   \n",
       "2  CNN —\\n\\nA Minnesota woman was attacked and ki...          -0.089000   \n",
       "3  CNN —\\n\\nCheerleader Tyra Winters is Rockwall ...           0.022465   \n",
       "4  Robert Mahone runs in for the easy 1-yard touc...           0.076696   \n",
       "\n",
       "   textblob_subjectivity  vader_neg  vader_neu vader_pos  vader_compound  \\\n",
       "0               0.488836      0.025      0.847     0.128          0.9769   \n",
       "1               0.100000      0.000      1.000     0.000          0.0000   \n",
       "2               0.392000      0.109      0.869     0.021         -0.9791   \n",
       "3               0.448420      0.064      0.859     0.077          0.0102   \n",
       "4               0.403968      0.043      0.846     0.111          0.9713   \n",
       "\n",
       "   label                                        explanation  \\\n",
       "0   True  The article appears to be factual, as it quote...   \n",
       "1   True  The article appears to be discussing the fundr...   \n",
       "2   True  This article appears to be a factual report of...   \n",
       "3   True  The article is about a 17-year-old cheerleader...   \n",
       "4   True  The article reports on a real event in which F...   \n",
       "\n",
       "                                   retrieved_context  \n",
       "0  ['Permission (film) | Permission is a romantic...  \n",
       "1  ['Democratic Party presidential primaries, 202...  \n",
       "2  [\"Night of the Grizzlies | Night of the Grizzl...  \n",
       "3  [\"Karen Link | Link is a NFL Cheerleader for t...  \n",
       "4  [\"2016 South Florida Bulls football team | The...  \n",
       "\n",
       "[5 rows x 25 columns]"
      ],
      "text/html": [
       "<div>\n",
       "<style scoped>\n",
       "    .dataframe tbody tr th:only-of-type {\n",
       "        vertical-align: middle;\n",
       "    }\n",
       "\n",
       "    .dataframe tbody tr th {\n",
       "        vertical-align: top;\n",
       "    }\n",
       "\n",
       "    .dataframe thead th {\n",
       "        text-align: right;\n",
       "    }\n",
       "</style>\n",
       "<table border=\"1\" class=\"dataframe\">\n",
       "  <thead>\n",
       "    <tr style=\"text-align: right;\">\n",
       "      <th></th>\n",
       "      <th>id</th>\n",
       "      <th>source_id</th>\n",
       "      <th>source_name</th>\n",
       "      <th>author</th>\n",
       "      <th>title</th>\n",
       "      <th>description</th>\n",
       "      <th>url</th>\n",
       "      <th>url_to_image</th>\n",
       "      <th>published_at</th>\n",
       "      <th>content</th>\n",
       "      <th>...</th>\n",
       "      <th>full_article</th>\n",
       "      <th>textblob_polarity</th>\n",
       "      <th>textblob_subjectivity</th>\n",
       "      <th>vader_neg</th>\n",
       "      <th>vader_neu</th>\n",
       "      <th>vader_pos</th>\n",
       "      <th>vader_compound</th>\n",
       "      <th>label</th>\n",
       "      <th>explanation</th>\n",
       "      <th>retrieved_context</th>\n",
       "    </tr>\n",
       "  </thead>\n",
       "  <tbody>\n",
       "    <tr>\n",
       "      <th>0</th>\n",
       "      <td>287</td>\n",
       "      <td>the-irish-times</td>\n",
       "      <td>The Irish Times</td>\n",
       "      <td>Andrew Pulver</td>\n",
       "      <td>Kristen Stewart: I was told to tone down my se...</td>\n",
       "      <td>The Twilight actor says she was advised to sto...</td>\n",
       "      <td>https://www.irishtimes.com/culture/film/kriste...</td>\n",
       "      <td>https://www.irishtimes.com/image-creator/?id=1...</td>\n",
       "      <td>2019-09-03T12:58:03Z</td>\n",
       "      <td>Kristen Stewart was told to stop holding her g...</td>\n",
       "      <td>...</td>\n",
       "      <td>Kristen Stewart was told to stop holding her g...</td>\n",
       "      <td>0.250598</td>\n",
       "      <td>0.488836</td>\n",
       "      <td>0.025</td>\n",
       "      <td>0.847</td>\n",
       "      <td>0.128</td>\n",
       "      <td>0.9769</td>\n",
       "      <td>True</td>\n",
       "      <td>The article appears to be factual, as it quote...</td>\n",
       "      <td>['Permission (film) | Permission is a romantic...</td>\n",
       "    </tr>\n",
       "    <tr>\n",
       "      <th>1</th>\n",
       "      <td>8561</td>\n",
       "      <td>cbs-news</td>\n",
       "      <td>CBS News</td>\n",
       "      <td>Grace Segers</td>\n",
       "      <td>2020 Democrats reveal third quarter fundraisin...</td>\n",
       "      <td>The contenders in the 2020 presidential race h...</td>\n",
       "      <td>https://www.cbsnews.com/live-news/2020-democra...</td>\n",
       "      <td>https://cbsnews3.cbsistatic.com/hub/i/r/2019/0...</td>\n",
       "      <td>2019-10-01T14:29:16Z</td>\n",
       "      <td>By Grace Segers, Sarah Ewall-Wice\\r\\nOctober 1...</td>\n",
       "      <td>...</td>\n",
       "      <td>Booker says impeachment trial could be \"big bl...</td>\n",
       "      <td>0.000000</td>\n",
       "      <td>0.100000</td>\n",
       "      <td>0.000</td>\n",
       "      <td>1.000</td>\n",
       "      <td>0.000</td>\n",
       "      <td>0.0000</td>\n",
       "      <td>True</td>\n",
       "      <td>The article appears to be discussing the fundr...</td>\n",
       "      <td>['Democratic Party presidential primaries, 202...</td>\n",
       "    </tr>\n",
       "    <tr>\n",
       "      <th>2</th>\n",
       "      <td>1497</td>\n",
       "      <td>cnn</td>\n",
       "      <td>CNN</td>\n",
       "      <td>Leah Asmelash, CNN</td>\n",
       "      <td>A Minnesota woman was killed in a rare black b...</td>\n",
       "      <td>A Minnesota woman was attacked and killed by a...</td>\n",
       "      <td>https://www.cnn.com/2019/09/05/us/minnesota-wo...</td>\n",
       "      <td>https://cdn.cnn.com/cnnnext/dam/assets/1909051...</td>\n",
       "      <td>2019-09-05T16:46:13Z</td>\n",
       "      <td>NaN</td>\n",
       "      <td>...</td>\n",
       "      <td>CNN —\\n\\nA Minnesota woman was attacked and ki...</td>\n",
       "      <td>-0.089000</td>\n",
       "      <td>0.392000</td>\n",
       "      <td>0.109</td>\n",
       "      <td>0.869</td>\n",
       "      <td>0.021</td>\n",
       "      <td>-0.9791</td>\n",
       "      <td>True</td>\n",
       "      <td>This article appears to be a factual report of...</td>\n",
       "      <td>[\"Night of the Grizzlies | Night of the Grizzl...</td>\n",
       "    </tr>\n",
       "    <tr>\n",
       "      <th>3</th>\n",
       "      <td>10376</td>\n",
       "      <td>cnn</td>\n",
       "      <td>CNN</td>\n",
       "      <td>David Williams, CNN</td>\n",
       "      <td>A cheerleader jumped off a homecoming float to...</td>\n",
       "      <td>Cheerleader Tyra Winters is Rockwall High Scho...</td>\n",
       "      <td>https://www.cnn.com/2019/10/03/us/cheerleader-...</td>\n",
       "      <td>https://cdn.cnn.com/cnnnext/dam/assets/1910031...</td>\n",
       "      <td>2019-10-03T14:51:32Z</td>\n",
       "      <td>NaN</td>\n",
       "      <td>...</td>\n",
       "      <td>CNN —\\n\\nCheerleader Tyra Winters is Rockwall ...</td>\n",
       "      <td>0.022465</td>\n",
       "      <td>0.448420</td>\n",
       "      <td>0.064</td>\n",
       "      <td>0.859</td>\n",
       "      <td>0.077</td>\n",
       "      <td>0.0102</td>\n",
       "      <td>True</td>\n",
       "      <td>The article is about a 17-year-old cheerleader...</td>\n",
       "      <td>[\"Karen Link | Link is a NFL Cheerleader for t...</td>\n",
       "    </tr>\n",
       "    <tr>\n",
       "      <th>4</th>\n",
       "      <td>206</td>\n",
       "      <td>espn</td>\n",
       "      <td>ESPN</td>\n",
       "      <td>Adam RittenbergESPN Senior Writer</td>\n",
       "      <td>Taggart: Dehydration possible factor in FSU loss</td>\n",
       "      <td>Florida State will monitor the Seminoles' hydr...</td>\n",
       "      <td>http://espn.go.com/college-football/story/_/id...</td>\n",
       "      <td>https://a2.espncdn.com/combiner/i?img=%2Fphoto...</td>\n",
       "      <td>2019-09-03T15:16:00Z</td>\n",
       "      <td>After watching Florida State wear down in Satu...</td>\n",
       "      <td>...</td>\n",
       "      <td>Robert Mahone runs in for the easy 1-yard touc...</td>\n",
       "      <td>0.076696</td>\n",
       "      <td>0.403968</td>\n",
       "      <td>0.043</td>\n",
       "      <td>0.846</td>\n",
       "      <td>0.111</td>\n",
       "      <td>0.9713</td>\n",
       "      <td>True</td>\n",
       "      <td>The article reports on a real event in which F...</td>\n",
       "      <td>[\"2016 South Florida Bulls football team | The...</td>\n",
       "    </tr>\n",
       "  </tbody>\n",
       "</table>\n",
       "<p>5 rows × 25 columns</p>\n",
       "</div>"
      ]
     },
     "execution_count": 3,
     "metadata": {},
     "output_type": "execute_result"
    }
   ],
   "execution_count": 3
  },
  {
   "metadata": {
    "ExecuteTime": {
     "end_time": "2024-12-04T05:12:44.744087Z",
     "start_time": "2024-12-04T05:12:44.733681Z"
    }
   },
   "cell_type": "code",
   "source": "df['label'].value_counts()",
   "id": "d69f1226dabfe7e6",
   "outputs": [
    {
     "data": {
      "text/plain": [
       "label\n",
       "True     6134\n",
       "False     185\n",
       "Name: count, dtype: int64"
      ]
     },
     "execution_count": 4,
     "metadata": {},
     "output_type": "execute_result"
    }
   ],
   "execution_count": 4
  },
  {
   "metadata": {
    "ExecuteTime": {
     "end_time": "2024-12-04T05:12:44.805064Z",
     "start_time": "2024-12-04T05:12:44.798644Z"
    }
   },
   "cell_type": "code",
   "source": "df.iloc[0]['retrieved_context']",
   "id": "664c9b193cb7e832",
   "outputs": [
    {
     "data": {
      "text/plain": [
       "'[\\'Permission (film) | Permission is a romantic dramedy film written and directed by Brian Crano. The film stars Rebecca Hall as a woman on the brink of a marriage proposal from her boyfriend (Dan Stevens), but is impeded by the suggestion of her brother (David Joseph Craig) and his life partner (Morgan Spector) to \"test date\" other men before she ultimately settles down. Meanwhile, the film also follows the relationship of the gay couple as they decide whether or not to become parents.\\', \\'Georgia Brooks | Georgia Brooks is a fictional character from the Australian soap opera \"Neighbours\", played by Saskia Hampele. The actress was travelling through Kakadu with her boyfriend when she received a call from her agent about a regular role on \"Neighbours\". Hampele was then asked to film an audition for the show and she said that she could not turn down the opportunity to play Georgia. She also believed that she was meant to get the part because the character was originally called Daisy, a nickname her boyfriend and friends call her. Hampele made her first screen appearance as Georgia during the episode broadcast on 5 October 2012. Hampele decided to leave the show in 2015 to pursue new acting opportunities, and Georgia made her departure in the same month. She later returned for guest appearances in August 2015 and April 2016.\\', \"Speak (film) | Speak is a 2004 American independent drama based on the award-winning novel of the same name by Laurie Halse Anderson. It stars Kristen Stewart as Melinda Sordino, a high school freshman who practically stops talking after a senior student rapes her. The film is told through Melinda\\'s eyes and is wrought with her sardonic humor and blunt honesty. It was broadcast on Showtime and Lifetime in 2005 after premiering at the Sundance Film Festival in 2004.\", \\'Boys on the Side | Three unique women embark on a cross-country road trip: Jane (Whoopi Goldberg), a lesbian lounge singer in search of a new life after breaking up with her girlfriend and getting fired; Holly (Drew Barrymore), a pregnant girl who just wants to escape her brutal boyfriend; and Robin (Mary-Louise Parker), an uptight real estate agent who has her own secrets (namely being infected with HIV).\\', \"But I\\'m a Cheerleader | But I\\'m a Cheerleader is a 1999 satirical romantic comedy film directed by Jamie Babbit and written by Brian Wayne Peterson. Natasha Lyonne stars as Megan Bloomfield, a high school cheerleader whose parents send her to a residential inpatient conversion therapy camp to cure her lesbianism. There Megan soon comes to embrace her sexual orientation, despite the therapy, and falls in love. The supporting cast includes Melanie Lynskey, Dante Basco, Eddie Cibrian, Clea DuVall, Cathy Moriarty, Katrina Phillips, RuPaul, Richard Moll, Mink Stole, Kip Pardue, Michelle Williams, and Bud Cort.\"]'"
      ]
     },
     "execution_count": 5,
     "metadata": {},
     "output_type": "execute_result"
    }
   ],
   "execution_count": 5
  },
  {
   "metadata": {
    "ExecuteTime": {
     "end_time": "2024-12-04T05:14:36.530469Z",
     "start_time": "2024-12-04T05:14:36.526185Z"
    }
   },
   "cell_type": "code",
   "source": "fake_news = df[df['label'] == False]",
   "id": "357ea03a3af8ab9e",
   "outputs": [],
   "execution_count": 48
  },
  {
   "metadata": {
    "ExecuteTime": {
     "end_time": "2024-12-04T05:17:55.860026Z",
     "start_time": "2024-12-04T05:17:55.856970Z"
    }
   },
   "cell_type": "code",
   "source": "index = 21",
   "id": "25fb4b5fd6780a99",
   "outputs": [],
   "execution_count": 101
  },
  {
   "metadata": {
    "ExecuteTime": {
     "end_time": "2024-12-04T05:17:55.897713Z",
     "start_time": "2024-12-04T05:17:55.891115Z"
    }
   },
   "cell_type": "code",
   "source": "fake_news.iloc[index]['title']",
   "id": "5beac200c55d9d90",
   "outputs": [
    {
     "data": {
      "text/plain": [
       "\"NOAA issues statement supporting Trump's claim Hurricane Dorian threatened Alabama\""
      ]
     },
     "execution_count": 102,
     "metadata": {},
     "output_type": "execute_result"
    }
   ],
   "execution_count": 102
  },
  {
   "metadata": {
    "ExecuteTime": {
     "end_time": "2024-12-04T05:17:55.919454Z",
     "start_time": "2024-12-04T05:17:55.914344Z"
    }
   },
   "cell_type": "code",
   "source": "fake_news.iloc[index]['description']",
   "id": "ef37e36e42c1d6d5",
   "outputs": [
    {
     "data": {
      "text/plain": [
       "'Five days after President Donald Trump tweeted that Hurricane Dorian threatened Alabama, NOAA weighed in.'"
      ]
     },
     "execution_count": 103,
     "metadata": {},
     "output_type": "execute_result"
    }
   ],
   "execution_count": 103
  },
  {
   "metadata": {
    "ExecuteTime": {
     "end_time": "2024-12-04T05:17:55.992820Z",
     "start_time": "2024-12-04T05:17:55.987562Z"
    }
   },
   "cell_type": "code",
   "source": "fake_news.iloc[index]['full_article']",
   "id": "6c2936425dda5de",
   "outputs": [
    {
     "data": {
      "text/plain": [
       "'The agency issued its comment five days after the president\\'s tweet.\\n\\nFive days after Donald Trump said Hurricane Dorian threatened Alabama, the National Oceanic and Atmospheric Association issued a statement late Friday supporting the president\\'s claim and chastising a local branch of the National Weather Service.\\n\\nNOAA said the NWS Birmingham office was wrong to speak \"in absolute terms\" on Sunday when it tweeted: \"Alabama will NOT see any impacts from #Dorian.\"\\n\\nThat tweet, at 11:11 a.m. EDT, followed 20 minutes after Trump\\'s.\\n\\nA NOAA spokesperson said: \"From Wednesday, August 28, through Monday, September 2, the information provided by NOAA and the National Hurricane Center to President Trump and the wider public demonstrated that tropical-storm-force winds from Hurricane Dorian could impact Alabama. This is clearly demonstrated in Hurricane Advisories #15 through #41, which can be viewed at the following link. The Birmingham National Weather Service\\'s Sunday morning tweet spoke in absolute terms that were inconsistent with probabilities from the best forecast products available at the time.\"\\n\\nThat statement is technically correct. According to the map to which NOAA links, there was a 5% to 10% probability that a tiny part of southeastern Alabama would experience winds of at least 39 mph. That also was true for the entire eastern seaboard.\\n\\nTrump tweeted on Thursday, referring to various weather forecasts, that \"certain models strongly suggested that Alabama & Georgia would be hit\" after on Sunday he\\'d written a tweet including that \"Alabama, will most likely be hit (much) harder than anticipated.\"\\n\\nTrump on Wednesday was photographed holding a National Hurricane Center map that included a drawn-on semicircle extending the hurricane\\'s \"cone of uncertainty\" well into Alabama.\\n\\nPresident Donald Trump talks with reporters after receiving a briefing on Hurricane Dorian in the Oval Office of the White House, Sept. 4, 2019, in Washington. Evan Vucci/AP\\n\\nA White House deputy spokesman later wrote on Twitter that it was \"a black sharpie mark.\"\\n\\nThe White House did not immediately respond to a request for comment from ABC News following NOAA\\'s statement on Friday.'"
      ]
     },
     "execution_count": 104,
     "metadata": {},
     "output_type": "execute_result"
    }
   ],
   "execution_count": 104
  },
  {
   "metadata": {
    "ExecuteTime": {
     "end_time": "2024-12-04T05:17:56.050084Z",
     "start_time": "2024-12-04T05:17:56.045731Z"
    }
   },
   "cell_type": "code",
   "source": "fake_news.iloc[index]['explanation']",
   "id": "34fc1f44fb4e9fbc",
   "outputs": [
    {
     "data": {
      "text/plain": [
       "\"NOAA's statement supporting Trump's claim that Hurricane Dorian threatened Alabama is based on the fact that there was a 5% to 10% probability of a tiny part of southeastern Alabama experiencing winds of at least 39 mph. However, this probability was not unique to Alabama, as the same probabilities applied to the entire eastern seaboard. The statement from NOAA appears to be a technical justification rather than a clear indication that Alabama was significantly threatened by the hurricane. Considering the context of Trump's previous false claims, such as the wiretapping allegations and voter fraud claims, it's essential to approach this situation with a critical eye.\""
      ]
     },
     "execution_count": 105,
     "metadata": {},
     "output_type": "execute_result"
    }
   ],
   "execution_count": 105
  },
  {
   "metadata": {
    "ExecuteTime": {
     "end_time": "2024-12-04T05:17:56.100896Z",
     "start_time": "2024-12-04T05:17:56.094134Z"
    }
   },
   "cell_type": "code",
   "source": "fake_news.iloc[index]['retrieved_context']",
   "id": "9b791a1eea0f30b7",
   "outputs": [
    {
     "data": {
      "text/plain": [
       "'[\\'NAACP v. Trump | NAACP v. Trump, No. 1:17-cv-05427-ALC (S.D.N.Y. 2017), is a case pending before the United States District Court for the Southern District of New York. The plaintiffs, the National Association for the Advancement of Colored People (NAACP) and The Ordinary People Society allege that the defendants, President Donald Trump, the Vice President Michael Pence, and Kris Kobach are in violation of the Fifth and Fifteenth Amendments and the Federal Advisory Committee Act by establishing the Presidential Advisory Commission on Election Integrity(PEIC) for the purpose of supporting the President’s claim that \"Voter fraud is all too common and then they criticize us for saying that ... take a look at Philadelphia, what\\\\\\'s going on, take a look at Chicago, take a look at St. Louis.\"\\', \"Trump Tower wiretapping allegations | On March 4, 2017, U.S. President Donald Trump wrote a series of posts on his Twitter account that accused former President Barack Obama of wiretapping his phones at his Trump Tower office late in the 2016 presidential campaign. Trump presented no evidence for his claim but called for a congressional investigation. The Trump administration later stated that reports from various news sources supported Trump\\'s claim, although none of these reports explicitly gave credence to Trump\\'s allegation.\", \\'Effects of Hurricane Dennis in Alabama | The Effects of Hurricane Dennis in Alabama, USA included $127 million (2005 USD) in damage and three injuries. Dennis made landfall on the Florida Panhandle as a Category 3 hurricane on the Saffir-Simpson Hurricane Scale on July 10, 2005, before tracking over Alabama as a minimal hurricane. In preparation for the storm, about 500,000 people were given evacuation orders, and the Red Cross opened 87 shelters. As a result, all southbound lanes of Interstate 65 from Mobile to Montgomery were closed.\\', \"Hurricane Frederic | Hurricane Frederic was an intense and damaging tropical cyclone that carved a path of damage from the Lesser Antilles to Quebec, in particular devastating areas of the United States Gulf Coast. Though only five were killed directly, the US$2.3 billion in damage accrued by Frederic made it the Atlantic basin\\'s costliest tropical cyclone on record at the time. Prior to its final landfall, the threat that Frederic imposed on areas of the U.S. Gulf Coast triggered a mass exodus from the region larger than any other evacuation in the past. While the storm primarily impacted the U.S. states of Mississippi and Alabama, lesser effects were felt throughout the Greater and Lesser Antilles, as well as inland North America.\", \\'Effects of Hurricane Isaac in Florida | The Effects of Hurricane Isaac in Florida were severe local flooding in South Florida and tornadoes in the central and northern portions of the state in August 2012. Hurricane Isaac formed from a tropical wave while located east of the Lesser Antilles on August 21, 2012. The storm moved westward, crossed through the Leeward Islands, and entered the Caribbean Sea on August 22. Isaac initially struggled to intensify and defied predictions of it strengthening into a hurricane. The storm made its first landfall in Haiti as a midgrade tropical storm prior to making a second one in Cuba later that day. It remained somewhat disorganized while moving through the Straits of Florida and passed near the Florida Keys on August 27. The storm threatened to strike the Tampa Bay Area during the 2012 Republican National Convention and move ashore in the Florida Panhandle as a major hurricane. However, it continued northwestward and avoided landfall in the state. The storm finally became a hurricane late on August 28. Isaac made two landfalls in Louisiana on August 29, the first near the mouth of the Mississippi River and the other near Port Fourchon. The storm steadily weakened and eventually dissipated over Missouri on September 1.\\']'"
      ]
     },
     "execution_count": 106,
     "metadata": {},
     "output_type": "execute_result"
    }
   ],
   "execution_count": 106
  },
  {
   "metadata": {
    "ExecuteTime": {
     "end_time": "2024-12-04T05:17:56.161057Z",
     "start_time": "2024-12-04T05:17:56.155356Z"
    }
   },
   "cell_type": "code",
   "source": [
    "outlet_data = pd.DataFrame({\n",
    "    \"source_name\": [\n",
    "        \"Reuters\", \"The Irish Times\", \"Al Jazeera English\", \"BBC News\", \"ABC News\",\n",
    "        \"The New York Times\", \"CNN\", \"CBS News\", \"Newsweek\", \"Business Insider\",\n",
    "        \"The Wall Street Journal\", \"ESPN\"\n",
    "    ],\n",
    "    \"leaning\": [\n",
    "        \"Center\", \"NA\", \"Left-Center\", \"Center\", \"Left-Center\",\n",
    "        \"Left-Center\", \"Left\", \"Left-Center\", \"Center\", \"Center\",\n",
    "        \"Center\", \"Left-Center\"\n",
    "    ]\n",
    "})"
   ],
   "id": "42c4aad902b20b0d",
   "outputs": [],
   "execution_count": 107
  },
  {
   "metadata": {
    "ExecuteTime": {
     "end_time": "2024-12-04T05:17:56.196055Z",
     "start_time": "2024-12-04T05:17:56.188880Z"
    }
   },
   "cell_type": "code",
   "source": [
    "import pandas as pd\n",
    "\n",
    "def transform_leaning(dataframe, column_name):\n",
    "    \"\"\"\n",
    "    Replaces 'Center' with 0, 'Left-Center' with -0.5, 'Left' with -1, and 'NA' with None in the specified column of the dataframe.\n",
    "\n",
    "    :param dataframe: The pandas DataFrame containing the column to be transformed.\n",
    "    :param column_name: The name of the column to apply the transformation.\n",
    "    :return: A pandas DataFrame with the transformed column.\n",
    "    \"\"\"\n",
    "    mapping = {\"Center\": 0, \"Left-Center\": -0.5, \"Left\": -1, \"NA\": None}\n",
    "    dataframe[column_name] = dataframe[column_name].map(mapping)\n",
    "    return dataframe\n",
    "\n",
    "# Apply the transformation\n",
    "outlet_data = transform_leaning(outlet_data, \"leaning\")\n",
    "\n",
    "# Display the transformed DataFrame\n",
    "print(outlet_data)"
   ],
   "id": "e26e0b45fbe12f43",
   "outputs": [
    {
     "name": "stdout",
     "output_type": "stream",
     "text": [
      "                source_name  leaning\n",
      "0                   Reuters      0.0\n",
      "1           The Irish Times      NaN\n",
      "2        Al Jazeera English     -0.5\n",
      "3                  BBC News      0.0\n",
      "4                  ABC News     -0.5\n",
      "5        The New York Times     -0.5\n",
      "6                       CNN     -1.0\n",
      "7                  CBS News     -0.5\n",
      "8                  Newsweek      0.0\n",
      "9          Business Insider      0.0\n",
      "10  The Wall Street Journal      0.0\n",
      "11                     ESPN     -0.5\n"
     ]
    }
   ],
   "execution_count": 108
  },
  {
   "metadata": {
    "ExecuteTime": {
     "end_time": "2024-12-04T05:17:56.246748Z",
     "start_time": "2024-12-04T05:17:56.225634Z"
    }
   },
   "cell_type": "code",
   "source": [
    "df = df.merge(outlet_data, on='source_name')\n",
    "df.head()"
   ],
   "id": "d0eef5a4dc88ce8c",
   "outputs": [
    {
     "data": {
      "text/plain": [
       "      id        source_id      source_name  \\\n",
       "0    287  the-irish-times  The Irish Times   \n",
       "1   8561         cbs-news         CBS News   \n",
       "2   1497              cnn              CNN   \n",
       "3  10376              cnn              CNN   \n",
       "4    206             espn             ESPN   \n",
       "\n",
       "                               author  \\\n",
       "0                       Andrew Pulver   \n",
       "1                        Grace Segers   \n",
       "2                  Leah Asmelash, CNN   \n",
       "3                 David Williams, CNN   \n",
       "4  Adam RittenbergESPN Senior Writer    \n",
       "\n",
       "                                               title  \\\n",
       "0  Kristen Stewart: I was told to tone down my se...   \n",
       "1  2020 Democrats reveal third quarter fundraisin...   \n",
       "2  A Minnesota woman was killed in a rare black b...   \n",
       "3  A cheerleader jumped off a homecoming float to...   \n",
       "4   Taggart: Dehydration possible factor in FSU loss   \n",
       "\n",
       "                                         description  \\\n",
       "0  The Twilight actor says she was advised to sto...   \n",
       "1  The contenders in the 2020 presidential race h...   \n",
       "2  A Minnesota woman was attacked and killed by a...   \n",
       "3  Cheerleader Tyra Winters is Rockwall High Scho...   \n",
       "4  Florida State will monitor the Seminoles' hydr...   \n",
       "\n",
       "                                                 url  \\\n",
       "0  https://www.irishtimes.com/culture/film/kriste...   \n",
       "1  https://www.cbsnews.com/live-news/2020-democra...   \n",
       "2  https://www.cnn.com/2019/09/05/us/minnesota-wo...   \n",
       "3  https://www.cnn.com/2019/10/03/us/cheerleader-...   \n",
       "4  http://espn.go.com/college-football/story/_/id...   \n",
       "\n",
       "                                        url_to_image          published_at  \\\n",
       "0  https://www.irishtimes.com/image-creator/?id=1...  2019-09-03T12:58:03Z   \n",
       "1  https://cbsnews3.cbsistatic.com/hub/i/r/2019/0...  2019-10-01T14:29:16Z   \n",
       "2  https://cdn.cnn.com/cnnnext/dam/assets/1909051...  2019-09-05T16:46:13Z   \n",
       "3  https://cdn.cnn.com/cnnnext/dam/assets/1910031...  2019-10-03T14:51:32Z   \n",
       "4  https://a2.espncdn.com/combiner/i?img=%2Fphoto...  2019-09-03T15:16:00Z   \n",
       "\n",
       "                                             content  ...  textblob_polarity  \\\n",
       "0  Kristen Stewart was told to stop holding her g...  ...           0.250598   \n",
       "1  By Grace Segers, Sarah Ewall-Wice\\r\\nOctober 1...  ...           0.000000   \n",
       "2                                                NaN  ...          -0.089000   \n",
       "3                                                NaN  ...           0.022465   \n",
       "4  After watching Florida State wear down in Satu...  ...           0.076696   \n",
       "\n",
       "   textblob_subjectivity  vader_neg  vader_neu  vader_pos vader_compound  \\\n",
       "0               0.488836      0.025      0.847      0.128         0.9769   \n",
       "1               0.100000      0.000      1.000      0.000         0.0000   \n",
       "2               0.392000      0.109      0.869      0.021        -0.9791   \n",
       "3               0.448420      0.064      0.859      0.077         0.0102   \n",
       "4               0.403968      0.043      0.846      0.111         0.9713   \n",
       "\n",
       "   label                                        explanation  \\\n",
       "0   True  The article appears to be factual, as it quote...   \n",
       "1   True  The article appears to be discussing the fundr...   \n",
       "2   True  This article appears to be a factual report of...   \n",
       "3   True  The article is about a 17-year-old cheerleader...   \n",
       "4   True  The article reports on a real event in which F...   \n",
       "\n",
       "                                   retrieved_context  leaning  \n",
       "0  ['Permission (film) | Permission is a romantic...      NaN  \n",
       "1  ['Democratic Party presidential primaries, 202...     -0.5  \n",
       "2  [\"Night of the Grizzlies | Night of the Grizzl...     -1.0  \n",
       "3  [\"Karen Link | Link is a NFL Cheerleader for t...     -1.0  \n",
       "4  [\"2016 South Florida Bulls football team | The...     -0.5  \n",
       "\n",
       "[5 rows x 26 columns]"
      ],
      "text/html": [
       "<div>\n",
       "<style scoped>\n",
       "    .dataframe tbody tr th:only-of-type {\n",
       "        vertical-align: middle;\n",
       "    }\n",
       "\n",
       "    .dataframe tbody tr th {\n",
       "        vertical-align: top;\n",
       "    }\n",
       "\n",
       "    .dataframe thead th {\n",
       "        text-align: right;\n",
       "    }\n",
       "</style>\n",
       "<table border=\"1\" class=\"dataframe\">\n",
       "  <thead>\n",
       "    <tr style=\"text-align: right;\">\n",
       "      <th></th>\n",
       "      <th>id</th>\n",
       "      <th>source_id</th>\n",
       "      <th>source_name</th>\n",
       "      <th>author</th>\n",
       "      <th>title</th>\n",
       "      <th>description</th>\n",
       "      <th>url</th>\n",
       "      <th>url_to_image</th>\n",
       "      <th>published_at</th>\n",
       "      <th>content</th>\n",
       "      <th>...</th>\n",
       "      <th>textblob_polarity</th>\n",
       "      <th>textblob_subjectivity</th>\n",
       "      <th>vader_neg</th>\n",
       "      <th>vader_neu</th>\n",
       "      <th>vader_pos</th>\n",
       "      <th>vader_compound</th>\n",
       "      <th>label</th>\n",
       "      <th>explanation</th>\n",
       "      <th>retrieved_context</th>\n",
       "      <th>leaning</th>\n",
       "    </tr>\n",
       "  </thead>\n",
       "  <tbody>\n",
       "    <tr>\n",
       "      <th>0</th>\n",
       "      <td>287</td>\n",
       "      <td>the-irish-times</td>\n",
       "      <td>The Irish Times</td>\n",
       "      <td>Andrew Pulver</td>\n",
       "      <td>Kristen Stewart: I was told to tone down my se...</td>\n",
       "      <td>The Twilight actor says she was advised to sto...</td>\n",
       "      <td>https://www.irishtimes.com/culture/film/kriste...</td>\n",
       "      <td>https://www.irishtimes.com/image-creator/?id=1...</td>\n",
       "      <td>2019-09-03T12:58:03Z</td>\n",
       "      <td>Kristen Stewart was told to stop holding her g...</td>\n",
       "      <td>...</td>\n",
       "      <td>0.250598</td>\n",
       "      <td>0.488836</td>\n",
       "      <td>0.025</td>\n",
       "      <td>0.847</td>\n",
       "      <td>0.128</td>\n",
       "      <td>0.9769</td>\n",
       "      <td>True</td>\n",
       "      <td>The article appears to be factual, as it quote...</td>\n",
       "      <td>['Permission (film) | Permission is a romantic...</td>\n",
       "      <td>NaN</td>\n",
       "    </tr>\n",
       "    <tr>\n",
       "      <th>1</th>\n",
       "      <td>8561</td>\n",
       "      <td>cbs-news</td>\n",
       "      <td>CBS News</td>\n",
       "      <td>Grace Segers</td>\n",
       "      <td>2020 Democrats reveal third quarter fundraisin...</td>\n",
       "      <td>The contenders in the 2020 presidential race h...</td>\n",
       "      <td>https://www.cbsnews.com/live-news/2020-democra...</td>\n",
       "      <td>https://cbsnews3.cbsistatic.com/hub/i/r/2019/0...</td>\n",
       "      <td>2019-10-01T14:29:16Z</td>\n",
       "      <td>By Grace Segers, Sarah Ewall-Wice\\r\\nOctober 1...</td>\n",
       "      <td>...</td>\n",
       "      <td>0.000000</td>\n",
       "      <td>0.100000</td>\n",
       "      <td>0.000</td>\n",
       "      <td>1.000</td>\n",
       "      <td>0.000</td>\n",
       "      <td>0.0000</td>\n",
       "      <td>True</td>\n",
       "      <td>The article appears to be discussing the fundr...</td>\n",
       "      <td>['Democratic Party presidential primaries, 202...</td>\n",
       "      <td>-0.5</td>\n",
       "    </tr>\n",
       "    <tr>\n",
       "      <th>2</th>\n",
       "      <td>1497</td>\n",
       "      <td>cnn</td>\n",
       "      <td>CNN</td>\n",
       "      <td>Leah Asmelash, CNN</td>\n",
       "      <td>A Minnesota woman was killed in a rare black b...</td>\n",
       "      <td>A Minnesota woman was attacked and killed by a...</td>\n",
       "      <td>https://www.cnn.com/2019/09/05/us/minnesota-wo...</td>\n",
       "      <td>https://cdn.cnn.com/cnnnext/dam/assets/1909051...</td>\n",
       "      <td>2019-09-05T16:46:13Z</td>\n",
       "      <td>NaN</td>\n",
       "      <td>...</td>\n",
       "      <td>-0.089000</td>\n",
       "      <td>0.392000</td>\n",
       "      <td>0.109</td>\n",
       "      <td>0.869</td>\n",
       "      <td>0.021</td>\n",
       "      <td>-0.9791</td>\n",
       "      <td>True</td>\n",
       "      <td>This article appears to be a factual report of...</td>\n",
       "      <td>[\"Night of the Grizzlies | Night of the Grizzl...</td>\n",
       "      <td>-1.0</td>\n",
       "    </tr>\n",
       "    <tr>\n",
       "      <th>3</th>\n",
       "      <td>10376</td>\n",
       "      <td>cnn</td>\n",
       "      <td>CNN</td>\n",
       "      <td>David Williams, CNN</td>\n",
       "      <td>A cheerleader jumped off a homecoming float to...</td>\n",
       "      <td>Cheerleader Tyra Winters is Rockwall High Scho...</td>\n",
       "      <td>https://www.cnn.com/2019/10/03/us/cheerleader-...</td>\n",
       "      <td>https://cdn.cnn.com/cnnnext/dam/assets/1910031...</td>\n",
       "      <td>2019-10-03T14:51:32Z</td>\n",
       "      <td>NaN</td>\n",
       "      <td>...</td>\n",
       "      <td>0.022465</td>\n",
       "      <td>0.448420</td>\n",
       "      <td>0.064</td>\n",
       "      <td>0.859</td>\n",
       "      <td>0.077</td>\n",
       "      <td>0.0102</td>\n",
       "      <td>True</td>\n",
       "      <td>The article is about a 17-year-old cheerleader...</td>\n",
       "      <td>[\"Karen Link | Link is a NFL Cheerleader for t...</td>\n",
       "      <td>-1.0</td>\n",
       "    </tr>\n",
       "    <tr>\n",
       "      <th>4</th>\n",
       "      <td>206</td>\n",
       "      <td>espn</td>\n",
       "      <td>ESPN</td>\n",
       "      <td>Adam RittenbergESPN Senior Writer</td>\n",
       "      <td>Taggart: Dehydration possible factor in FSU loss</td>\n",
       "      <td>Florida State will monitor the Seminoles' hydr...</td>\n",
       "      <td>http://espn.go.com/college-football/story/_/id...</td>\n",
       "      <td>https://a2.espncdn.com/combiner/i?img=%2Fphoto...</td>\n",
       "      <td>2019-09-03T15:16:00Z</td>\n",
       "      <td>After watching Florida State wear down in Satu...</td>\n",
       "      <td>...</td>\n",
       "      <td>0.076696</td>\n",
       "      <td>0.403968</td>\n",
       "      <td>0.043</td>\n",
       "      <td>0.846</td>\n",
       "      <td>0.111</td>\n",
       "      <td>0.9713</td>\n",
       "      <td>True</td>\n",
       "      <td>The article reports on a real event in which F...</td>\n",
       "      <td>[\"2016 South Florida Bulls football team | The...</td>\n",
       "      <td>-0.5</td>\n",
       "    </tr>\n",
       "  </tbody>\n",
       "</table>\n",
       "<p>5 rows × 26 columns</p>\n",
       "</div>"
      ]
     },
     "execution_count": 109,
     "metadata": {},
     "output_type": "execute_result"
    }
   ],
   "execution_count": 109
  },
  {
   "metadata": {
    "ExecuteTime": {
     "end_time": "2024-12-04T05:17:56.311932Z",
     "start_time": "2024-12-04T05:17:56.305043Z"
    }
   },
   "cell_type": "code",
   "source": "df.dtypes",
   "id": "44238e1772edc629",
   "outputs": [
    {
     "data": {
      "text/plain": [
       "id                                   int64\n",
       "source_id                           object\n",
       "source_name                         object\n",
       "author                              object\n",
       "title                               object\n",
       "description                         object\n",
       "url                                 object\n",
       "url_to_image                        object\n",
       "published_at                        object\n",
       "content                             object\n",
       "top_article                        float64\n",
       "engagement_reaction_count          float64\n",
       "engagement_comment_count           float64\n",
       "engagement_share_count             float64\n",
       "engagement_comment_plugin_count    float64\n",
       "full_article                        object\n",
       "textblob_polarity                  float64\n",
       "textblob_subjectivity              float64\n",
       "vader_neg                          float64\n",
       "vader_neu                          float64\n",
       "vader_pos                          float64\n",
       "vader_compound                     float64\n",
       "label                               object\n",
       "explanation                         object\n",
       "retrieved_context                   object\n",
       "leaning                            float64\n",
       "dtype: object"
      ]
     },
     "execution_count": 110,
     "metadata": {},
     "output_type": "execute_result"
    }
   ],
   "execution_count": 110
  },
  {
   "metadata": {
    "ExecuteTime": {
     "end_time": "2024-12-04T05:17:57.034304Z",
     "start_time": "2024-12-04T05:17:56.424529Z"
    }
   },
   "cell_type": "code",
   "source": "df = pd.read_csv(pathlib.Path(\"data\") / \"subset4_articles_with_sentiment_and_classification.csv\", index_col=0)",
   "id": "9f38625b72c4eeba",
   "outputs": [],
   "execution_count": 111
  },
  {
   "metadata": {
    "ExecuteTime": {
     "end_time": "2024-12-04T05:17:57.071063Z",
     "start_time": "2024-12-04T05:17:57.065646Z"
    }
   },
   "cell_type": "code",
   "source": "df.head(10)['explanation']",
   "id": "a05c5c843eb6628b",
   "outputs": [
    {
     "data": {
      "text/plain": [
       "0    The article appears to be factual, as it quote...\n",
       "1    The article appears to be discussing the fundr...\n",
       "2    This article appears to be a factual report of...\n",
       "3    The article is about a 17-year-old cheerleader...\n",
       "4    The article reports on a real event in which F...\n",
       "5    The article reports that Izzy Englander's Mill...\n",
       "6    The article appears to be based on an excerpt ...\n",
       "7    The article reports on the enduring popularity...\n",
       "8    The article appears to be real as it reports o...\n",
       "9    This article appears to be a factual report on...\n",
       "Name: explanation, dtype: object"
      ]
     },
     "execution_count": 112,
     "metadata": {},
     "output_type": "execute_result"
    }
   ],
   "execution_count": 112
  },
  {
   "metadata": {
    "ExecuteTime": {
     "end_time": "2024-12-04T05:17:57.114601Z",
     "start_time": "2024-12-04T05:17:57.112437Z"
    }
   },
   "cell_type": "code",
   "source": "",
   "id": "c829bd58923e9dd4",
   "outputs": [],
   "execution_count": null
  },
  {
   "metadata": {
    "ExecuteTime": {
     "end_time": "2024-12-04T05:17:57.180851Z",
     "start_time": "2024-12-04T05:17:57.173109Z"
    }
   },
   "cell_type": "code",
   "source": "df['label'].value_counts()",
   "id": "420b902e0be73111",
   "outputs": [
    {
     "data": {
      "text/plain": [
       "label\n",
       "True     6134\n",
       "False     185\n",
       "Name: count, dtype: int64"
      ]
     },
     "execution_count": 113,
     "metadata": {},
     "output_type": "execute_result"
    }
   ],
   "execution_count": 113
  }
 ],
 "metadata": {
  "kernelspec": {
   "name": "python3",
   "language": "python",
   "display_name": "Python 3 (ipykernel)"
  }
 },
 "nbformat": 5,
 "nbformat_minor": 9
}
