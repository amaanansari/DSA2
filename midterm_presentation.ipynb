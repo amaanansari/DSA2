{
 "cells": [
  {
   "cell_type": "code",
   "id": "initial_id",
   "metadata": {
    "collapsed": true,
    "jupyter": {
     "outputs_hidden": true,
     "is_executing": true
    }
   },
   "source": [
    "import pandas as pd\n",
    "import matplotlib.pyplot as plt\n",
    "import plotly.express as px\n",
    "#from matplotlib.ticker import FuncFormatter"
   ],
   "outputs": [],
   "execution_count": null
  },
  {
   "cell_type": "code",
   "id": "9136834100a0553c",
   "metadata": {},
   "source": [
    "df = pd.read_csv('news_articles.csv', index_col=0)\n",
    "df.head()"
   ],
   "outputs": [],
   "execution_count": null
  },
  {
   "cell_type": "code",
   "id": "50dcee0f290e3006",
   "metadata": {},
   "source": [
    "df.shape"
   ],
   "outputs": [],
   "execution_count": null
  },
  {
   "cell_type": "code",
   "id": "128da38016ec412",
   "metadata": {},
   "source": [
    "df.columns"
   ],
   "outputs": [],
   "execution_count": null
  },
  {
   "cell_type": "code",
   "id": "77a398d49a44e1d2",
   "metadata": {},
   "source": [
    "df['source_id'].unique()\n",
    "df = df[df['source_id'] != '1']\n",
    "\n",
    "# Assuming your DataFrame is named df\n",
    "columns_to_convert = [\n",
    "    'top_article', \n",
    "    'engagement_reaction_count', \n",
    "    'engagement_comment_count', \n",
    "    'engagement_share_count', \n",
    "    'engagement_comment_plugin_count'\n",
    "]\n",
    "\n",
    "# Convert the specified columns to integers\n",
    "df[columns_to_convert] = df[columns_to_convert].astype('Int64')"
   ],
   "outputs": [],
   "execution_count": null
  },
  {
   "cell_type": "code",
   "id": "a436ae9dc919a5f8",
   "metadata": {},
   "source": [
    "df"
   ],
   "outputs": [],
   "execution_count": null
  },
  {
   "cell_type": "code",
   "id": "82418d4dcaeb0c7b",
   "metadata": {},
   "source": [
    "pd.Series(df['source_id'].unique()).to_json('sources.json')"
   ],
   "outputs": [],
   "execution_count": null
  },
  {
   "cell_type": "code",
   "id": "ab2c7958bff15a17",
   "metadata": {},
   "source": [
    "df['author'].value_counts()"
   ],
   "outputs": [],
   "execution_count": null
  },
  {
   "metadata": {},
   "cell_type": "code",
   "source": [
    "# Creating a DataFrame from the provided data\n",
    "outlet_data = pd.DataFrame({\n",
    "    \"source_name\": [\n",
    "        \"Reuters\", \"The Irish Times\", \"Al Jazeera English\", \"BBC News\", \"ABC News\",\n",
    "        \"The New York Times\", \"CNN\", \"CBS News\", \"Newsweek\", \"Business Insider\",\n",
    "        \"The Wall Street Journal\", \"ESPN\"\n",
    "    ],\n",
    "    \"leaning\": [\n",
    "        \"Center\", \"NA\", \"Left-Center\", \"Center\", \"Left-Center\",\n",
    "        \"Left-Center\", \"Left\", \"Left-Center\", \"Center\", \"Center\",\n",
    "        \"Center\", \"Left-Center\"\n",
    "    ]\n",
    "})\n",
    "df = df.merge(outlet_data, on='source_name')\n",
    "df.head()"
   ],
   "id": "28af7880d89537d5",
   "outputs": [],
   "execution_count": null
  },
  {
   "metadata": {},
   "cell_type": "code",
   "source": "",
   "id": "f1fd4a053ed83d25",
   "outputs": [],
   "execution_count": null
  },
  {
   "cell_type": "code",
   "id": "e5e0129694ac6cbb",
   "metadata": {},
   "source": [
    "plt.figure(figsize=(10, 6))\n",
    "ax = df['source_name'].value_counts().plot(kind='bar')\n",
    "\n",
    "# Set plot title and labels\n",
    "plt.title(\"Counts of Each Source Name\")\n",
    "plt.xlabel(\"Source Name\")\n",
    "plt.ylabel(\"Count\")\n",
    "\n",
    "# Adding the count labels on top of each bar\n",
    "for p in ax.patches:\n",
    "    ax.annotate(str(p.get_height()), (p.get_x() + p.get_width() / 2, p.get_height()),\n",
    "                ha='center', va='bottom', fontsize=10)\n",
    "\n",
    "# Tilt the x-axis labels by 45 degrees\n",
    "#plt.xticks(rotation=70)\n",
    "\n",
    "# Display the plot\n",
    "plt.show()"
   ],
   "outputs": [],
   "execution_count": null
  },
  {
   "metadata": {},
   "cell_type": "code",
   "source": [
    "\n",
    "# Dictionary for color mapping based on 'leaning'\n",
    "color_dict = {\n",
    "    \"Left\": \"blue\",\n",
    "    \"Left-Center\": \"orange\",\n",
    "    \"Center\": \"gray\",\n",
    "    \"NA\": \"black\"\n",
    "}\n",
    "\n",
    "# Map colors based on the 'leaning' column\n",
    "df['color'] = df['leaning'].map(color_dict)\n",
    "# Count the occurrences of each 'source_name'\n",
    "source_counts = df['source_name'].value_counts().reset_index()\n",
    "source_counts.columns = ['source_name', 'count']\n",
    "print(source_counts.head())\n",
    "# Merge color information back into the counts DataFrame\n",
    "source_counts = source_counts.merge(df[['source_name', 'leaning', 'color']].drop_duplicates(), on='source_name')\n",
    "\n",
    "# Plot using Plotly Express with custom colors\n",
    "fig = px.bar(\n",
    "    source_counts,\n",
    "    x='source_name',\n",
    "    y='count',\n",
    "    color='leaning',\n",
    "    color_discrete_map=color_dict,\n",
    "    title=\"Counts of Each Source by Leaning\",\n",
    "    labels={'count': 'Count', 'source_name': 'Source Name'},\n",
    "    text='count'  # Show count on top of bars\n",
    ")\n",
    "\n",
    "# Customize layout for readability\n",
    "fig.update_layout(xaxis_tickangle=70)\n",
    "fig.show()\n"
   ],
   "id": "3bacf40b40926568",
   "outputs": [],
   "execution_count": null
  },
  {
   "cell_type": "code",
   "id": "c103ddfa24162232",
   "metadata": {},
   "source": [
    "# Assuming we have the dataframe `df` with a 'published_at' column\n",
    "\n",
    "df['published_at'] = pd.to_datetime(df['published_at'], errors='coerce')\n",
    "\n",
    "# Drop rows with NaT (if any dates couldn't be converted)\n",
    "df = df.dropna(subset=['published_at'])\n",
    "print(df.dtypes)\n",
    "# Group by date to count the number of articles published each day\n",
    "articles_per_day = df['published_at'].dt.date.value_counts().sort_index()\n",
    "\n",
    "# Create a plot to show the timeline of articles published\n",
    "plt.figure(figsize=(12, 6))\n",
    "articles_per_day.plot(kind='line', marker='o')\n",
    "\n",
    "# Set plot title and labels\n",
    "plt.title(\"Timeline of Articles Published\")\n",
    "plt.xlabel(\"Date\")\n",
    "plt.ylabel(\"Number of Articles Published\")\n",
    "\n",
    "# Display the plot\n",
    "plt.xticks(rotation=45)\n",
    "plt.grid(axis='y')\n",
    "plt.show()\n"
   ],
   "outputs": [],
   "execution_count": null
  },
  {
   "cell_type": "code",
   "id": "ece1c184ddadf8ea",
   "metadata": {},
   "source": [
    "# Aggregate the engagement metrics by 'source_name'\n",
    "def aggregate_engagement(aggregation_function=sum):\n",
    "    df_inside = df.drop(['top_article'], axis=1)\n",
    "    df_inside['source_name_and_leaning'] = df_inside['source_name'] + ' (' + df_inside['leaning'] + ')'\n",
    "    aggregated_engagement = df_inside.groupby('source_name_and_leaning').agg(func=aggregation_function, numeric_only=True)\n",
    "\n",
    "    # Plotting the aggregated engagement metrics for each source_name\n",
    "    plt.figure(figsize=(14, 8))\n",
    "    aggregated_engagement.plot(kind='bar', stacked=False, figsize=(14, 8))\n",
    "    \n",
    "    # Set plot title and labels\n",
    "    plt.title(f\"{str(aggregation_function).upper()} Engagement Metrics by Source Name\")\n",
    "    plt.xlabel(\"Source Name\")\n",
    "    plt.ylabel(\"Aggregated Engagement Counts\")\n",
    "    \n",
    "    # Format the y-axis to show readable numbers instead of scientific notation\n",
    "    #ax.ticklabel_format(style='plain', axis='y')\n",
    "    \n",
    "    # Display the plot with rotation for better readability\n",
    "    plt.xticks(rotation=45)\n",
    "    plt.grid(axis='y', linestyle='--')\n",
    "    plt.tight_layout()\n",
    "    plt.show()\n",
    "    # plt.update_yaxes(tickformat=\"none\").show() # show number as is"
   ],
   "outputs": [],
   "execution_count": null
  },
  {
   "cell_type": "code",
   "id": "f11a86e82f23057d",
   "metadata": {},
   "source": [
    "aggregate_engagement(aggregation_function='sum')"
   ],
   "outputs": [],
   "execution_count": null
  },
  {
   "cell_type": "code",
   "id": "4ac16b7525683e52",
   "metadata": {},
   "source": [
    "aggregate_engagement(aggregation_function='mean')"
   ],
   "outputs": [],
   "execution_count": null
  },
  {
   "metadata": {},
   "cell_type": "code",
   "source": "aggregate_engagement(aggregation_function='median')",
   "id": "c8c7ba291c6d136",
   "outputs": [],
   "execution_count": null
  }
 ],
 "metadata": {
  "kernelspec": {
   "display_name": "Python 3 (ipykernel)",
   "language": "python",
   "name": "python3"
  },
  "language_info": {
   "codemirror_mode": {
    "name": "ipython",
    "version": 3
   },
   "file_extension": ".py",
   "mimetype": "text/x-python",
   "name": "python",
   "nbconvert_exporter": "python",
   "pygments_lexer": "ipython3",
   "version": "3.11.9"
  }
 },
 "nbformat": 4,
 "nbformat_minor": 5
}
